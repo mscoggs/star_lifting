{
 "cells": [
  {
   "cell_type": "code",
   "execution_count": 8,
   "id": "bdec9dda",
   "metadata": {},
   "outputs": [],
   "source": [
    "import matplotlib.pyplot as plt\n",
    "import numpy as np\n",
    "import os\n",
    "import read_mist_models\n",
    "from os import listdir\n",
    "from os.path import isfile, join\n",
    "import glob"
   ]
  },
  {
   "cell_type": "markdown",
   "id": "0a050815",
   "metadata": {},
   "source": [
    "# Loading in the isochrones"
   ]
  },
  {
   "cell_type": "code",
   "execution_count": 14,
   "id": "4b4cc9cd",
   "metadata": {},
   "outputs": [
    {
     "name": "stdout",
     "output_type": "stream",
     "text": [
      "Reading in: MIST_v1.2_feh_p0.00_afe_p0.0_vvcrit0.4_EEPS\\30000M.track.eep\n",
      "available columns:  ['star_age', 'star_mass', 'star_mdot', 'he_core_mass', 'c_core_mass', 'o_core_mass', 'log_L', 'log_L_div_Ledd', 'log_LH', 'log_LHe', 'log_LZ', 'log_Teff', 'log_abs_Lgrav', 'log_R', 'log_g', 'log_surf_z', 'surf_avg_omega', 'surf_avg_v_rot', 'surf_num_c12_div_num_o16', 'v_wind_Km_per_s', 'surf_avg_omega_crit', 'surf_avg_omega_div_omega_crit', 'surf_avg_v_crit', 'surf_avg_v_div_v_crit', 'surf_avg_Lrad_div_Ledd', 'v_div_csound_surf', 'surface_h1', 'surface_he3', 'surface_he4', 'surface_li7', 'surface_be9', 'surface_b11', 'surface_c12', 'surface_c13', 'surface_n14', 'surface_o16', 'surface_f19', 'surface_ne20', 'surface_na23', 'surface_mg24', 'surface_si28', 'surface_s32', 'surface_ca40', 'surface_ti48', 'surface_fe56', 'log_center_T', 'log_center_Rho', 'center_degeneracy', 'center_omega', 'center_gamma', 'mass_conv_core', 'center_h1', 'center_he4', 'center_c12', 'center_n14', 'center_o16', 'center_ne20', 'center_mg24', 'center_si28', 'pp', 'cno', 'tri_alfa', 'burn_c', 'burn_n', 'burn_o', 'c12_c12', 'delta_nu', 'delta_Pg', 'nu_max', 'acoustic_cutoff', 'max_conv_vel_div_csound', 'max_gradT_div_grada', 'gradT_excess_alpha', 'min_Pgas_div_P', 'max_L_rad_div_Ledd', 'e_thermal', 'phase']\n"
     ]
    }
   ],
   "source": [
    "eep = read_mist_models.EEP('MIST_v1.2_feh_p0.00_afe_p0.0_vvcrit0.4_EEPS\\\\30000M.track.eep')\n",
    "print('available columns: ', eep.hdr_list)"
   ]
  },
  {
   "cell_type": "code",
   "execution_count": 15,
   "id": "74324a00",
   "metadata": {
    "scrolled": true
   },
   "outputs": [
    {
     "name": "stdout",
     "output_type": "stream",
     "text": [
      "Reading in: MIST_v1.2_feh_p0.00_afe_p0.0_vvcrit0.4_EEPS\\00010M.track.eep\n",
      "Reading in: MIST_v1.2_feh_p0.00_afe_p0.0_vvcrit0.4_EEPS\\00015M.track.eep\n",
      "Reading in: MIST_v1.2_feh_p0.00_afe_p0.0_vvcrit0.4_EEPS\\00020M.track.eep\n",
      "Reading in: MIST_v1.2_feh_p0.00_afe_p0.0_vvcrit0.4_EEPS\\00025M.track.eep\n",
      "Reading in: MIST_v1.2_feh_p0.00_afe_p0.0_vvcrit0.4_EEPS\\00030M.track.eep\n",
      "Reading in: MIST_v1.2_feh_p0.00_afe_p0.0_vvcrit0.4_EEPS\\00031M.track.eep\n",
      "Reading in: MIST_v1.2_feh_p0.00_afe_p0.0_vvcrit0.4_EEPS\\00032M.track.eep\n",
      "Reading in: MIST_v1.2_feh_p0.00_afe_p0.0_vvcrit0.4_EEPS\\00033M.track.eep\n",
      "Reading in: MIST_v1.2_feh_p0.00_afe_p0.0_vvcrit0.4_EEPS\\00034M.track.eep\n",
      "Reading in: MIST_v1.2_feh_p0.00_afe_p0.0_vvcrit0.4_EEPS\\00035M.track.eep\n",
      "Reading in: MIST_v1.2_feh_p0.00_afe_p0.0_vvcrit0.4_EEPS\\00036M.track.eep\n",
      "Reading in: MIST_v1.2_feh_p0.00_afe_p0.0_vvcrit0.4_EEPS\\00037M.track.eep\n",
      "Reading in: MIST_v1.2_feh_p0.00_afe_p0.0_vvcrit0.4_EEPS\\00038M.track.eep\n",
      "Reading in: MIST_v1.2_feh_p0.00_afe_p0.0_vvcrit0.4_EEPS\\00039M.track.eep\n",
      "Reading in: MIST_v1.2_feh_p0.00_afe_p0.0_vvcrit0.4_EEPS\\00040M.track.eep\n",
      "Reading in: MIST_v1.2_feh_p0.00_afe_p0.0_vvcrit0.4_EEPS\\00045M.track.eep\n",
      "Reading in: MIST_v1.2_feh_p0.00_afe_p0.0_vvcrit0.4_EEPS\\00050M.track.eep\n",
      "Reading in: MIST_v1.2_feh_p0.00_afe_p0.0_vvcrit0.4_EEPS\\00055M.track.eep\n",
      "Reading in: MIST_v1.2_feh_p0.00_afe_p0.0_vvcrit0.4_EEPS\\00060M.track.eep\n",
      "Reading in: MIST_v1.2_feh_p0.00_afe_p0.0_vvcrit0.4_EEPS\\00065M.track.eep\n",
      "Reading in: MIST_v1.2_feh_p0.00_afe_p0.0_vvcrit0.4_EEPS\\00070M.track.eep\n",
      "Reading in: MIST_v1.2_feh_p0.00_afe_p0.0_vvcrit0.4_EEPS\\00075M.track.eep\n",
      "Reading in: MIST_v1.2_feh_p0.00_afe_p0.0_vvcrit0.4_EEPS\\00080M.track.eep\n",
      "Reading in: MIST_v1.2_feh_p0.00_afe_p0.0_vvcrit0.4_EEPS\\00085M.track.eep\n",
      "Reading in: MIST_v1.2_feh_p0.00_afe_p0.0_vvcrit0.4_EEPS\\00090M.track.eep\n",
      "Reading in: MIST_v1.2_feh_p0.00_afe_p0.0_vvcrit0.4_EEPS\\00092M.track.eep\n",
      "Reading in: MIST_v1.2_feh_p0.00_afe_p0.0_vvcrit0.4_EEPS\\00094M.track.eep\n",
      "Reading in: MIST_v1.2_feh_p0.00_afe_p0.0_vvcrit0.4_EEPS\\00096M.track.eep\n",
      "Reading in: MIST_v1.2_feh_p0.00_afe_p0.0_vvcrit0.4_EEPS\\00098M.track.eep\n",
      "Reading in: MIST_v1.2_feh_p0.00_afe_p0.0_vvcrit0.4_EEPS\\00100M.track.eep\n",
      "Reading in: MIST_v1.2_feh_p0.00_afe_p0.0_vvcrit0.4_EEPS\\00102M.track.eep\n",
      "Reading in: MIST_v1.2_feh_p0.00_afe_p0.0_vvcrit0.4_EEPS\\00104M.track.eep\n",
      "Reading in: MIST_v1.2_feh_p0.00_afe_p0.0_vvcrit0.4_EEPS\\00106M.track.eep\n",
      "Reading in: MIST_v1.2_feh_p0.00_afe_p0.0_vvcrit0.4_EEPS\\00108M.track.eep\n",
      "Reading in: MIST_v1.2_feh_p0.00_afe_p0.0_vvcrit0.4_EEPS\\00110M.track.eep\n",
      "Reading in: MIST_v1.2_feh_p0.00_afe_p0.0_vvcrit0.4_EEPS\\00112M.track.eep\n",
      "Reading in: MIST_v1.2_feh_p0.00_afe_p0.0_vvcrit0.4_EEPS\\00114M.track.eep\n",
      "Reading in: MIST_v1.2_feh_p0.00_afe_p0.0_vvcrit0.4_EEPS\\00116M.track.eep\n",
      "Reading in: MIST_v1.2_feh_p0.00_afe_p0.0_vvcrit0.4_EEPS\\00118M.track.eep\n",
      "Reading in: MIST_v1.2_feh_p0.00_afe_p0.0_vvcrit0.4_EEPS\\00120M.track.eep\n",
      "Reading in: MIST_v1.2_feh_p0.00_afe_p0.0_vvcrit0.4_EEPS\\00122M.track.eep\n",
      "Reading in: MIST_v1.2_feh_p0.00_afe_p0.0_vvcrit0.4_EEPS\\00124M.track.eep\n",
      "Reading in: MIST_v1.2_feh_p0.00_afe_p0.0_vvcrit0.4_EEPS\\00126M.track.eep\n",
      "Reading in: MIST_v1.2_feh_p0.00_afe_p0.0_vvcrit0.4_EEPS\\00128M.track.eep\n",
      "Reading in: MIST_v1.2_feh_p0.00_afe_p0.0_vvcrit0.4_EEPS\\00130M.track.eep\n",
      "Reading in: MIST_v1.2_feh_p0.00_afe_p0.0_vvcrit0.4_EEPS\\00132M.track.eep\n",
      "Reading in: MIST_v1.2_feh_p0.00_afe_p0.0_vvcrit0.4_EEPS\\00134M.track.eep\n",
      "Reading in: MIST_v1.2_feh_p0.00_afe_p0.0_vvcrit0.4_EEPS\\00136M.track.eep\n",
      "Reading in: MIST_v1.2_feh_p0.00_afe_p0.0_vvcrit0.4_EEPS\\00138M.track.eep\n",
      "Reading in: MIST_v1.2_feh_p0.00_afe_p0.0_vvcrit0.4_EEPS\\00140M.track.eep\n",
      "Reading in: MIST_v1.2_feh_p0.00_afe_p0.0_vvcrit0.4_EEPS\\00142M.track.eep\n",
      "Reading in: MIST_v1.2_feh_p0.00_afe_p0.0_vvcrit0.4_EEPS\\00144M.track.eep\n",
      "Reading in: MIST_v1.2_feh_p0.00_afe_p0.0_vvcrit0.4_EEPS\\00146M.track.eep\n",
      "Reading in: MIST_v1.2_feh_p0.00_afe_p0.0_vvcrit0.4_EEPS\\00148M.track.eep\n",
      "Reading in: MIST_v1.2_feh_p0.00_afe_p0.0_vvcrit0.4_EEPS\\00150M.track.eep\n",
      "Reading in: MIST_v1.2_feh_p0.00_afe_p0.0_vvcrit0.4_EEPS\\00152M.track.eep\n",
      "Reading in: MIST_v1.2_feh_p0.00_afe_p0.0_vvcrit0.4_EEPS\\00154M.track.eep\n",
      "Reading in: MIST_v1.2_feh_p0.00_afe_p0.0_vvcrit0.4_EEPS\\00156M.track.eep\n",
      "Reading in: MIST_v1.2_feh_p0.00_afe_p0.0_vvcrit0.4_EEPS\\00158M.track.eep\n",
      "Reading in: MIST_v1.2_feh_p0.00_afe_p0.0_vvcrit0.4_EEPS\\00160M.track.eep\n",
      "Reading in: MIST_v1.2_feh_p0.00_afe_p0.0_vvcrit0.4_EEPS\\00162M.track.eep\n",
      "Reading in: MIST_v1.2_feh_p0.00_afe_p0.0_vvcrit0.4_EEPS\\00164M.track.eep\n",
      "Reading in: MIST_v1.2_feh_p0.00_afe_p0.0_vvcrit0.4_EEPS\\00166M.track.eep\n",
      "Reading in: MIST_v1.2_feh_p0.00_afe_p0.0_vvcrit0.4_EEPS\\00168M.track.eep\n",
      "Reading in: MIST_v1.2_feh_p0.00_afe_p0.0_vvcrit0.4_EEPS\\00170M.track.eep\n",
      "Reading in: MIST_v1.2_feh_p0.00_afe_p0.0_vvcrit0.4_EEPS\\00172M.track.eep\n",
      "Reading in: MIST_v1.2_feh_p0.00_afe_p0.0_vvcrit0.4_EEPS\\00174M.track.eep\n",
      "Reading in: MIST_v1.2_feh_p0.00_afe_p0.0_vvcrit0.4_EEPS\\00176M.track.eep\n",
      "Reading in: MIST_v1.2_feh_p0.00_afe_p0.0_vvcrit0.4_EEPS\\00178M.track.eep\n",
      "Reading in: MIST_v1.2_feh_p0.00_afe_p0.0_vvcrit0.4_EEPS\\00180M.track.eep\n",
      "Reading in: MIST_v1.2_feh_p0.00_afe_p0.0_vvcrit0.4_EEPS\\00182M.track.eep\n",
      "Reading in: MIST_v1.2_feh_p0.00_afe_p0.0_vvcrit0.4_EEPS\\00184M.track.eep\n",
      "Reading in: MIST_v1.2_feh_p0.00_afe_p0.0_vvcrit0.4_EEPS\\00186M.track.eep\n",
      "Reading in: MIST_v1.2_feh_p0.00_afe_p0.0_vvcrit0.4_EEPS\\00188M.track.eep\n",
      "Reading in: MIST_v1.2_feh_p0.00_afe_p0.0_vvcrit0.4_EEPS\\00190M.track.eep\n",
      "Reading in: MIST_v1.2_feh_p0.00_afe_p0.0_vvcrit0.4_EEPS\\00192M.track.eep\n",
      "Reading in: MIST_v1.2_feh_p0.00_afe_p0.0_vvcrit0.4_EEPS\\00194M.track.eep\n",
      "Reading in: MIST_v1.2_feh_p0.00_afe_p0.0_vvcrit0.4_EEPS\\00196M.track.eep\n",
      "Reading in: MIST_v1.2_feh_p0.00_afe_p0.0_vvcrit0.4_EEPS\\00198M.track.eep\n",
      "Reading in: MIST_v1.2_feh_p0.00_afe_p0.0_vvcrit0.4_EEPS\\00200M.track.eep\n",
      "Reading in: MIST_v1.2_feh_p0.00_afe_p0.0_vvcrit0.4_EEPS\\00202M.track.eep\n",
      "Reading in: MIST_v1.2_feh_p0.00_afe_p0.0_vvcrit0.4_EEPS\\00204M.track.eep\n",
      "Reading in: MIST_v1.2_feh_p0.00_afe_p0.0_vvcrit0.4_EEPS\\00206M.track.eep\n",
      "Reading in: MIST_v1.2_feh_p0.00_afe_p0.0_vvcrit0.4_EEPS\\00208M.track.eep\n",
      "Reading in: MIST_v1.2_feh_p0.00_afe_p0.0_vvcrit0.4_EEPS\\00210M.track.eep\n",
      "Reading in: MIST_v1.2_feh_p0.00_afe_p0.0_vvcrit0.4_EEPS\\00212M.track.eep\n",
      "Reading in: MIST_v1.2_feh_p0.00_afe_p0.0_vvcrit0.4_EEPS\\00214M.track.eep\n",
      "Reading in: MIST_v1.2_feh_p0.00_afe_p0.0_vvcrit0.4_EEPS\\00216M.track.eep\n",
      "Reading in: MIST_v1.2_feh_p0.00_afe_p0.0_vvcrit0.4_EEPS\\00218M.track.eep\n",
      "Reading in: MIST_v1.2_feh_p0.00_afe_p0.0_vvcrit0.4_EEPS\\00220M.track.eep\n",
      "Reading in: MIST_v1.2_feh_p0.00_afe_p0.0_vvcrit0.4_EEPS\\00222M.track.eep\n",
      "Reading in: MIST_v1.2_feh_p0.00_afe_p0.0_vvcrit0.4_EEPS\\00224M.track.eep\n",
      "Reading in: MIST_v1.2_feh_p0.00_afe_p0.0_vvcrit0.4_EEPS\\00226M.track.eep\n",
      "Reading in: MIST_v1.2_feh_p0.00_afe_p0.0_vvcrit0.4_EEPS\\00228M.track.eep\n",
      "Reading in: MIST_v1.2_feh_p0.00_afe_p0.0_vvcrit0.4_EEPS\\00230M.track.eep\n",
      "Reading in: MIST_v1.2_feh_p0.00_afe_p0.0_vvcrit0.4_EEPS\\00232M.track.eep\n",
      "Reading in: MIST_v1.2_feh_p0.00_afe_p0.0_vvcrit0.4_EEPS\\00234M.track.eep\n",
      "Reading in: MIST_v1.2_feh_p0.00_afe_p0.0_vvcrit0.4_EEPS\\00236M.track.eep\n",
      "Reading in: MIST_v1.2_feh_p0.00_afe_p0.0_vvcrit0.4_EEPS\\00238M.track.eep\n",
      "Reading in: MIST_v1.2_feh_p0.00_afe_p0.0_vvcrit0.4_EEPS\\00240M.track.eep\n",
      "Reading in: MIST_v1.2_feh_p0.00_afe_p0.0_vvcrit0.4_EEPS\\00242M.track.eep\n",
      "Reading in: MIST_v1.2_feh_p0.00_afe_p0.0_vvcrit0.4_EEPS\\00244M.track.eep\n",
      "Reading in: MIST_v1.2_feh_p0.00_afe_p0.0_vvcrit0.4_EEPS\\00246M.track.eep\n",
      "Reading in: MIST_v1.2_feh_p0.00_afe_p0.0_vvcrit0.4_EEPS\\00248M.track.eep\n",
      "Reading in: MIST_v1.2_feh_p0.00_afe_p0.0_vvcrit0.4_EEPS\\00250M.track.eep\n",
      "Reading in: MIST_v1.2_feh_p0.00_afe_p0.0_vvcrit0.4_EEPS\\00252M.track.eep\n",
      "Reading in: MIST_v1.2_feh_p0.00_afe_p0.0_vvcrit0.4_EEPS\\00254M.track.eep\n",
      "Reading in: MIST_v1.2_feh_p0.00_afe_p0.0_vvcrit0.4_EEPS\\00256M.track.eep\n",
      "Reading in: MIST_v1.2_feh_p0.00_afe_p0.0_vvcrit0.4_EEPS\\00258M.track.eep\n",
      "Reading in: MIST_v1.2_feh_p0.00_afe_p0.0_vvcrit0.4_EEPS\\00260M.track.eep\n",
      "Reading in: MIST_v1.2_feh_p0.00_afe_p0.0_vvcrit0.4_EEPS\\00262M.track.eep\n",
      "Reading in: MIST_v1.2_feh_p0.00_afe_p0.0_vvcrit0.4_EEPS\\00264M.track.eep\n",
      "Reading in: MIST_v1.2_feh_p0.00_afe_p0.0_vvcrit0.4_EEPS\\00266M.track.eep\n"
     ]
    },
    {
     "name": "stdout",
     "output_type": "stream",
     "text": [
      "Reading in: MIST_v1.2_feh_p0.00_afe_p0.0_vvcrit0.4_EEPS\\00268M.track.eep\n",
      "Reading in: MIST_v1.2_feh_p0.00_afe_p0.0_vvcrit0.4_EEPS\\00270M.track.eep\n",
      "Reading in: MIST_v1.2_feh_p0.00_afe_p0.0_vvcrit0.4_EEPS\\00272M.track.eep\n",
      "Reading in: MIST_v1.2_feh_p0.00_afe_p0.0_vvcrit0.4_EEPS\\00274M.track.eep\n",
      "Reading in: MIST_v1.2_feh_p0.00_afe_p0.0_vvcrit0.4_EEPS\\00276M.track.eep\n",
      "Reading in: MIST_v1.2_feh_p0.00_afe_p0.0_vvcrit0.4_EEPS\\00278M.track.eep\n",
      "Reading in: MIST_v1.2_feh_p0.00_afe_p0.0_vvcrit0.4_EEPS\\00280M.track.eep\n",
      "Reading in: MIST_v1.2_feh_p0.00_afe_p0.0_vvcrit0.4_EEPS\\00300M.track.eep\n",
      "Reading in: MIST_v1.2_feh_p0.00_afe_p0.0_vvcrit0.4_EEPS\\00320M.track.eep\n",
      "Reading in: MIST_v1.2_feh_p0.00_afe_p0.0_vvcrit0.4_EEPS\\00340M.track.eep\n",
      "Reading in: MIST_v1.2_feh_p0.00_afe_p0.0_vvcrit0.4_EEPS\\00360M.track.eep\n",
      "Reading in: MIST_v1.2_feh_p0.00_afe_p0.0_vvcrit0.4_EEPS\\00380M.track.eep\n",
      "Reading in: MIST_v1.2_feh_p0.00_afe_p0.0_vvcrit0.4_EEPS\\00400M.track.eep\n",
      "Reading in: MIST_v1.2_feh_p0.00_afe_p0.0_vvcrit0.4_EEPS\\00420M.track.eep\n",
      "Reading in: MIST_v1.2_feh_p0.00_afe_p0.0_vvcrit0.4_EEPS\\00440M.track.eep\n",
      "Reading in: MIST_v1.2_feh_p0.00_afe_p0.0_vvcrit0.4_EEPS\\00460M.track.eep\n",
      "Reading in: MIST_v1.2_feh_p0.00_afe_p0.0_vvcrit0.4_EEPS\\00480M.track.eep\n",
      "Reading in: MIST_v1.2_feh_p0.00_afe_p0.0_vvcrit0.4_EEPS\\00500M.track.eep\n",
      "Reading in: MIST_v1.2_feh_p0.00_afe_p0.0_vvcrit0.4_EEPS\\00520M.track.eep\n",
      "Reading in: MIST_v1.2_feh_p0.00_afe_p0.0_vvcrit0.4_EEPS\\00540M.track.eep\n",
      "Reading in: MIST_v1.2_feh_p0.00_afe_p0.0_vvcrit0.4_EEPS\\00560M.track.eep\n",
      "Reading in: MIST_v1.2_feh_p0.00_afe_p0.0_vvcrit0.4_EEPS\\00580M.track.eep\n",
      "Reading in: MIST_v1.2_feh_p0.00_afe_p0.0_vvcrit0.4_EEPS\\00600M.track.eep\n",
      "Reading in: MIST_v1.2_feh_p0.00_afe_p0.0_vvcrit0.4_EEPS\\00620M.track.eep\n",
      "Reading in: MIST_v1.2_feh_p0.00_afe_p0.0_vvcrit0.4_EEPS\\00640M.track.eep\n",
      "Reading in: MIST_v1.2_feh_p0.00_afe_p0.0_vvcrit0.4_EEPS\\00660M.track.eep\n",
      "Reading in: MIST_v1.2_feh_p0.00_afe_p0.0_vvcrit0.4_EEPS\\00680M.track.eep\n",
      "Reading in: MIST_v1.2_feh_p0.00_afe_p0.0_vvcrit0.4_EEPS\\00700M.track.eep\n",
      "Reading in: MIST_v1.2_feh_p0.00_afe_p0.0_vvcrit0.4_EEPS\\00720M.track.eep\n",
      "Reading in: MIST_v1.2_feh_p0.00_afe_p0.0_vvcrit0.4_EEPS\\00740M.track.eep\n",
      "Reading in: MIST_v1.2_feh_p0.00_afe_p0.0_vvcrit0.4_EEPS\\00760M.track.eep\n",
      "Reading in: MIST_v1.2_feh_p0.00_afe_p0.0_vvcrit0.4_EEPS\\00780M.track.eep\n",
      "Reading in: MIST_v1.2_feh_p0.00_afe_p0.0_vvcrit0.4_EEPS\\00800M.track.eep\n",
      "Reading in: MIST_v1.2_feh_p0.00_afe_p0.0_vvcrit0.4_EEPS\\00900M.track.eep\n",
      "Reading in: MIST_v1.2_feh_p0.00_afe_p0.0_vvcrit0.4_EEPS\\01000M.track.eep\n",
      "Reading in: MIST_v1.2_feh_p0.00_afe_p0.0_vvcrit0.4_EEPS\\01100M.track.eep\n",
      "Reading in: MIST_v1.2_feh_p0.00_afe_p0.0_vvcrit0.4_EEPS\\01200M.track.eep\n",
      "Reading in: MIST_v1.2_feh_p0.00_afe_p0.0_vvcrit0.4_EEPS\\01300M.track.eep\n",
      "Reading in: MIST_v1.2_feh_p0.00_afe_p0.0_vvcrit0.4_EEPS\\01400M.track.eep\n",
      "Reading in: MIST_v1.2_feh_p0.00_afe_p0.0_vvcrit0.4_EEPS\\01500M.track.eep\n",
      "Reading in: MIST_v1.2_feh_p0.00_afe_p0.0_vvcrit0.4_EEPS\\01600M.track.eep\n",
      "Reading in: MIST_v1.2_feh_p0.00_afe_p0.0_vvcrit0.4_EEPS\\01700M.track.eep\n",
      "Reading in: MIST_v1.2_feh_p0.00_afe_p0.0_vvcrit0.4_EEPS\\01800M.track.eep\n",
      "Reading in: MIST_v1.2_feh_p0.00_afe_p0.0_vvcrit0.4_EEPS\\01900M.track.eep\n",
      "Reading in: MIST_v1.2_feh_p0.00_afe_p0.0_vvcrit0.4_EEPS\\02000M.track.eep\n",
      "Reading in: MIST_v1.2_feh_p0.00_afe_p0.0_vvcrit0.4_EEPS\\02200M.track.eep\n",
      "Reading in: MIST_v1.2_feh_p0.00_afe_p0.0_vvcrit0.4_EEPS\\02400M.track.eep\n",
      "Reading in: MIST_v1.2_feh_p0.00_afe_p0.0_vvcrit0.4_EEPS\\02600M.track.eep\n",
      "Reading in: MIST_v1.2_feh_p0.00_afe_p0.0_vvcrit0.4_EEPS\\02800M.track.eep\n",
      "Reading in: MIST_v1.2_feh_p0.00_afe_p0.0_vvcrit0.4_EEPS\\03000M.track.eep\n",
      "Reading in: MIST_v1.2_feh_p0.00_afe_p0.0_vvcrit0.4_EEPS\\03200M.track.eep\n",
      "Reading in: MIST_v1.2_feh_p0.00_afe_p0.0_vvcrit0.4_EEPS\\03400M.track.eep\n",
      "Reading in: MIST_v1.2_feh_p0.00_afe_p0.0_vvcrit0.4_EEPS\\03600M.track.eep\n",
      "Reading in: MIST_v1.2_feh_p0.00_afe_p0.0_vvcrit0.4_EEPS\\03800M.track.eep\n",
      "Reading in: MIST_v1.2_feh_p0.00_afe_p0.0_vvcrit0.4_EEPS\\04000M.track.eep\n",
      "Reading in: MIST_v1.2_feh_p0.00_afe_p0.0_vvcrit0.4_EEPS\\04500M.track.eep\n",
      "Reading in: MIST_v1.2_feh_p0.00_afe_p0.0_vvcrit0.4_EEPS\\05000M.track.eep\n",
      "Reading in: MIST_v1.2_feh_p0.00_afe_p0.0_vvcrit0.4_EEPS\\05500M.track.eep\n",
      "Reading in: MIST_v1.2_feh_p0.00_afe_p0.0_vvcrit0.4_EEPS\\06000M.track.eep\n",
      "Reading in: MIST_v1.2_feh_p0.00_afe_p0.0_vvcrit0.4_EEPS\\06500M.track.eep\n",
      "Reading in: MIST_v1.2_feh_p0.00_afe_p0.0_vvcrit0.4_EEPS\\07000M.track.eep\n",
      "Reading in: MIST_v1.2_feh_p0.00_afe_p0.0_vvcrit0.4_EEPS\\07500M.track.eep\n",
      "Reading in: MIST_v1.2_feh_p0.00_afe_p0.0_vvcrit0.4_EEPS\\08000M.track.eep\n",
      "Reading in: MIST_v1.2_feh_p0.00_afe_p0.0_vvcrit0.4_EEPS\\08500M.track.eep\n",
      "Reading in: MIST_v1.2_feh_p0.00_afe_p0.0_vvcrit0.4_EEPS\\09000M.track.eep\n",
      "Reading in: MIST_v1.2_feh_p0.00_afe_p0.0_vvcrit0.4_EEPS\\09500M.track.eep\n",
      "Reading in: MIST_v1.2_feh_p0.00_afe_p0.0_vvcrit0.4_EEPS\\10000M.track.eep\n",
      "Reading in: MIST_v1.2_feh_p0.00_afe_p0.0_vvcrit0.4_EEPS\\10500M.track.eep\n",
      "Reading in: MIST_v1.2_feh_p0.00_afe_p0.0_vvcrit0.4_EEPS\\11000M.track.eep\n",
      "Reading in: MIST_v1.2_feh_p0.00_afe_p0.0_vvcrit0.4_EEPS\\11500M.track.eep\n",
      "Reading in: MIST_v1.2_feh_p0.00_afe_p0.0_vvcrit0.4_EEPS\\12000M.track.eep\n",
      "Reading in: MIST_v1.2_feh_p0.00_afe_p0.0_vvcrit0.4_EEPS\\12500M.track.eep\n",
      "Reading in: MIST_v1.2_feh_p0.00_afe_p0.0_vvcrit0.4_EEPS\\13000M.track.eep\n",
      "Reading in: MIST_v1.2_feh_p0.00_afe_p0.0_vvcrit0.4_EEPS\\13500M.track.eep\n",
      "Reading in: MIST_v1.2_feh_p0.00_afe_p0.0_vvcrit0.4_EEPS\\14000M.track.eep\n",
      "Reading in: MIST_v1.2_feh_p0.00_afe_p0.0_vvcrit0.4_EEPS\\14500M.track.eep\n",
      "Reading in: MIST_v1.2_feh_p0.00_afe_p0.0_vvcrit0.4_EEPS\\15000M.track.eep\n",
      "Reading in: MIST_v1.2_feh_p0.00_afe_p0.0_vvcrit0.4_EEPS\\17500M.track.eep\n",
      "Reading in: MIST_v1.2_feh_p0.00_afe_p0.0_vvcrit0.4_EEPS\\20000M.track.eep\n",
      "Reading in: MIST_v1.2_feh_p0.00_afe_p0.0_vvcrit0.4_EEPS\\22500M.track.eep\n",
      "Reading in: MIST_v1.2_feh_p0.00_afe_p0.0_vvcrit0.4_EEPS\\25000M.track.eep\n",
      "Reading in: MIST_v1.2_feh_p0.00_afe_p0.0_vvcrit0.4_EEPS\\27500M.track.eep\n",
      "Reading in: MIST_v1.2_feh_p0.00_afe_p0.0_vvcrit0.4_EEPS\\30000M.track.eep\n"
     ]
    }
   ],
   "source": [
    "def get_mist_data(dir_):\n",
    "    dir_list = glob.glob(dir_+\"\\*.eep\", recursive=True)\n",
    "    age, mass, mdot, log_L,log_T = [],[],[],[],[]\n",
    "    for file in dir_list:\n",
    "        eep = read_mist_models.EEP(file)\n",
    "        age.append(eep.eeps['star_age'])\n",
    "        mass.append(eep.eeps['star_mass'])\n",
    "        mdot.append(eep.eeps['star_mdot'])\n",
    "        log_L.append(eep.eeps['log_L'])\n",
    "        log_T.append(eep.eeps['log_Teff'])\n",
    "    return age, mass, mdot, log_L,log_T\n",
    "           \n",
    "age, mass, mdot, log_L,log_T = get_mist_data(\"MIST_v1.2_feh_p0.00_afe_p0.0_vvcrit0.4_EEPS\")"
   ]
  },
  {
   "cell_type": "markdown",
   "id": "a85b52f0",
   "metadata": {},
   "source": [
    "# Interpolating L_stable. Using interpolate.griddata, exploring cubic and linear fits, both zoomed into the area of interest and using the whole data set"
   ]
  },
  {
   "cell_type": "code",
   "execution_count": 301,
   "id": "403738c7",
   "metadata": {},
   "outputs": [
    {
     "name": "stderr",
     "output_type": "stream",
     "text": [
      "C:\\Users\\Matthew\\anaconda3\\lib\\site-packages\\numpy\\core\\_asarray.py:102: VisibleDeprecationWarning: Creating an ndarray from ragged nested sequences (which is a list-or-tuple of lists-or-tuples-or ndarrays with different lengths or shapes) is deprecated. If you meant to do this, you must specify 'dtype=object' when creating the ndarray.\n",
      "  return array(a, dtype, copy=False, order=order)\n"
     ]
    }
   ],
   "source": [
    "Asol = 4.603e9\n",
    "\n",
    "def flatten(arr):\n",
    "    new_arr = []\n",
    "    for m in arr:\n",
    "        new_arr.extend(list(m))\n",
    "    return new_arr\n",
    "\n",
    "\n",
    "a,b=0,np.size(mass)\n",
    "m2,a2,l2 =flatten(mass[a:b]), flatten(age[a:b]),flatten(log_L[a:b])\n",
    "x,y,z = m2,a2,l2\n",
    "linear_interp = interpolate.griddata((x, y), z, (1,Asol), method= \"linear\")\n",
    "cubic_interp = interpolate.griddata((x, y), z, (1,Asol), method= \"cubic\")\n",
    "\n",
    "a,b=20,40\n",
    "m2,a2,l2 =flatten(mass[a:b]), flatten(age[a:b]),flatten(log_L[a:b])\n",
    "x,y,z = m2,a2,l2\n",
    "\n",
    "linear_interp_zoomed = interpolate.griddata((x, y), z, (1,Asol), method= \"linear\")\n",
    "cubic_interp_zoomed = interpolate.griddata((x, y), z, (1,Asol), method= \"cubic\")"
   ]
  },
  {
   "cell_type": "code",
   "execution_count": 302,
   "id": "01b8a8d8",
   "metadata": {},
   "outputs": [
    {
     "name": "stdout",
     "output_type": "stream",
     "text": [
      "0.034970759192134104 0.015811547420965237 0.04497591274532205 0.020279790803037403\n"
     ]
    }
   ],
   "source": [
    "linear_interp,cubic_interp,linear_interp_zoomed,cubic_interp_zoomed = 0.034970759192134104, 0.015811547420965237, 0.04497591274532205, 0.020279790803037403\n",
    "print(linear_interp,cubic_interp,linear_interp_zoomed,cubic_interp_zoomed)"
   ]
  },
  {
   "cell_type": "code",
   "execution_count": 300,
   "id": "6b604ae6",
   "metadata": {},
   "outputs": [
    {
     "name": "stdout",
     "output_type": "stream",
     "text": [
      "0.015811547420965237\n"
     ]
    }
   ],
   "source": [
    "l_stable = cubic_interp\n",
    "print(l_stable)"
   ]
  },
  {
   "cell_type": "markdown",
   "id": "9071e014",
   "metadata": {},
   "source": [
    "Finding an L_stable that's a bit closer than David's value but I don't trust this interpolation method. I'll look for something better"
   ]
  },
  {
   "cell_type": "markdown",
   "id": "4892ee6b",
   "metadata": {},
   "source": [
    "# Interpolating mass across time for fixed L_stable. Filtering out tracks which don't contain L_stable"
   ]
  },
  {
   "cell_type": "code",
   "execution_count": 342,
   "id": "2da751e3",
   "metadata": {},
   "outputs": [
    {
     "name": "stderr",
     "output_type": "stream",
     "text": [
      "<ipython-input-342-f93017fee50a>:5: VisibleDeprecationWarning: Creating an ndarray from ragged nested sequences (which is a list-or-tuple of lists-or-tuples-or ndarrays with different lengths or shapes) is deprecated. If you meant to do this, you must specify 'dtype=object' when creating the ndarray.\n",
      "  m,a,l = flatten(np.array(mass)[keep]),flatten(np.array(age)[keep]),flatten(np.array(log_L)[keep])\n"
     ]
    }
   ],
   "source": [
    "keep = []\n",
    "for i,l_arr in enumerate(log_L):\n",
    "    if(not(np.all(l_arr > l_stable) or np.all(l_arr < l_stable))): keep.append(i)  \n",
    "        \n",
    "m,a,l = flatten(np.array(mass)[keep]),flatten(np.array(age)[keep]),flatten(np.array(log_L)[keep])\n",
    "\n",
    "time = np.linspace(4e9,6e10,30)\n",
    "lum = np.linspace(l_stable, l_stable,30)\n",
    "\n",
    "mass_interp_linear = interpolate.griddata((a,l), m, (time,lum), method= \"linear\")"
   ]
  },
  {
   "cell_type": "code",
   "execution_count": 352,
   "id": "3380f5bd",
   "metadata": {},
   "outputs": [
    {
     "data": {
      "text/plain": [
       "<matplotlib.legend.Legend at 0x1bac4aebf70>"
      ]
     },
     "execution_count": 352,
     "metadata": {},
     "output_type": "execute_result"
    },
    {
     "data": {
      "image/png": "[encoded data removed]",
      "text/plain": [
       "<Figure size 432x288 with 1 Axes>"
      ]
     },
     "metadata": {
      "needs_background": "light"
     },
     "output_type": "display_data"
    }
   ],
   "source": [
    "plt.rcParams.update({'font.size': 18})\n",
    "plt.plot(time,mass_interp_linear, label=\"linear\")\n",
    "plt.ylim(0.5,1.2)\n",
    "plt.xlabel(\"Age\")\n",
    "plt.ylabel(r\"$M_{\\odot}$\")\n",
    "plt.legend()"
   ]
  },
  {
   "cell_type": "markdown",
   "id": "8228c180",
   "metadata": {},
   "source": [
    "# This interpolation sucks. Cubic produces even worse values (sometimes negative). trying interpolation over the whole data set."
   ]
  },
  {
   "cell_type": "code",
   "execution_count": 353,
   "id": "d2849008",
   "metadata": {},
   "outputs": [
    {
     "data": {
      "text/plain": [
       "<matplotlib.legend.Legend at 0x1bac143bf10>"
      ]
     },
     "execution_count": 353,
     "metadata": {},
     "output_type": "execute_result"
    },
    {
     "data": {
      "image/png": "[encoded data removed]",
      "text/plain": [
       "<Figure size 432x288 with 1 Axes>"
      ]
     },
     "metadata": {
      "needs_background": "light"
     },
     "output_type": "display_data"
    }
   ],
   "source": [
    "m,a,l = flatten(mass),flatten(age),flatten(log_L)\n",
    "\n",
    "time = np.linspace(4e9,6e10,30)\n",
    "lum = np.linspace(l_stable, l_stable,30)\n",
    "\n",
    "mass_interp_linear2 = interpolate.griddata((a,l), m, (time,lum), method= \"linear\")\n",
    "\n",
    "plt.plot(time,mass_interp_linear2, label=\"linear\")\n",
    "plt.ylim(0.5,1.2)\n",
    "plt.xlabel(\"Age\")\n",
    "plt.ylabel(r\"$M_{\\odot}$\")\n",
    "plt.legend()"
   ]
  },
  {
   "cell_type": "markdown",
   "id": "8ad792f4",
   "metadata": {},
   "source": [
    "# Filtered interpolation is a little cleaner, though not great. Different interpolation method coming soon. Pretending this works, I'll fit a polynomial and calculate dm/dt"
   ]
  },
  {
   "cell_type": "code",
   "execution_count": 365,
   "id": "69f80343",
   "metadata": {},
   "outputs": [
    {
     "data": {
      "text/plain": [
       "Text(0, 0.5, '$M_{\\\\odot}$')"
      ]
     },
     "execution_count": 365,
     "metadata": {},
     "output_type": "execute_result"
    },
    {
     "data": {
      "image/png": "[encoded data removed]",
      "text/plain": [
       "<Figure size 432x288 with 1 Axes>"
      ]
     },
     "metadata": {
      "needs_background": "light"
     },
     "output_type": "display_data"
    }
   ],
   "source": [
    "fit = np.polyfit(time, mass_interp_linear,3)\n",
    "poly = np.poly1d(fit)\n",
    "poly_fit = poly(time)\n",
    "plt.plot(time, poly_fit)\n",
    "plt.xlabel(\"Age\")\n",
    "plt.ylabel(r\"$M_{\\odot}$\")"
   ]
  },
  {
   "cell_type": "code",
   "execution_count": 366,
   "id": "c3769588",
   "metadata": {},
   "outputs": [],
   "source": [
    "m_sol, m_ceres = 1.98847e30,9.1e20"
   ]
  },
  {
   "cell_type": "code",
   "execution_count": 367,
   "id": "6a290e49",
   "metadata": {},
   "outputs": [
    {
     "name": "stdout",
     "output_type": "stream",
     "text": [
      "[-9.94291437e-35  1.13507111e-22 -1.39432838e-11  1.02990270e+00]\n"
     ]
    }
   ],
   "source": [
    "print(fit)"
   ]
  },
  {
   "cell_type": "code",
   "execution_count": 368,
   "id": "ec8d1c8c",
   "metadata": {},
   "outputs": [
    {
     "data": {
      "text/plain": [
       "Text(0, 0.5, '$\\\\frac{\\\\partial M}{\\\\partial t} [M_{ceres}/year]$')"
      ]
     },
     "execution_count": 368,
     "metadata": {},
     "output_type": "execute_result"
    },
    {
     "data": {
      "image/png": "[encoded data removed]",
      "text/plain": [
       "<Figure size 432x288 with 1 Axes>"
      ]
     },
     "metadata": {
      "needs_background": "light"
     },
     "output_type": "display_data"
    }
   ],
   "source": [
    "poly_der = np.polyder(poly)\n",
    "poly_der_fit = poly_der(time)\n",
    "plt.plot(time, -poly_der_fit*m_sol/m_ceres)\n",
    "plt.xlabel(\"Age\")\n",
    "plt.ylabel(r\"$\\frac{\\partial M}{\\partial t} [M_{ceres}/year]$\")"
   ]
  }
 ],
 "metadata": {
  "kernelspec": {
   "display_name": "Python 3",
   "language": "python",
   "name": "python3"
  },
  "language_info": {
   "codemirror_mode": {
    "name": "ipython",
    "version": 3
   },
   "file_extension": ".py",
   "mimetype": "text/x-python",
   "name": "python",
   "nbconvert_exporter": "python",
   "pygments_lexer": "ipython3",
   "version": "3.8.8"
  }
 },
 "nbformat": 4,
 "nbformat_minor": 5
}
